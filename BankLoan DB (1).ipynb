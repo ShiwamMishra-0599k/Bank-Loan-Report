{
 "cells": [
  {
   "cell_type": "code",
   "execution_count": 37,
   "id": "b5399c33-31f9-4196-8784-022704e8c2ff",
   "metadata": {
    "scrolled": true
   },
   "outputs": [
    {
     "name": "stdout",
     "output_type": "stream",
     "text": [
      "Requirement already satisfied: pyodbc in c:\\users\\shiwa\\anaconda3\\lib\\site-packages (5.1.0)\n",
      "Requirement already satisfied: pandas in c:\\users\\shiwa\\anaconda3\\lib\\site-packages (2.2.2)\n",
      "Requirement already satisfied: numpy>=1.26.0 in c:\\users\\shiwa\\anaconda3\\lib\\site-packages (from pandas) (1.26.4)\n",
      "Requirement already satisfied: python-dateutil>=2.8.2 in c:\\users\\shiwa\\anaconda3\\lib\\site-packages (from pandas) (2.9.0.post0)\n",
      "Requirement already satisfied: pytz>=2020.1 in c:\\users\\shiwa\\anaconda3\\lib\\site-packages (from pandas) (2024.1)\n",
      "Requirement already satisfied: tzdata>=2022.7 in c:\\users\\shiwa\\anaconda3\\lib\\site-packages (from pandas) (2023.3)\n",
      "Requirement already satisfied: six>=1.5 in c:\\users\\shiwa\\anaconda3\\lib\\site-packages (from python-dateutil>=2.8.2->pandas) (1.16.0)\n",
      "Collecting squarify\n",
      "  Downloading squarify-0.4.4-py3-none-any.whl.metadata (600 bytes)\n",
      "Downloading squarify-0.4.4-py3-none-any.whl (4.1 kB)\n",
      "Installing collected packages: squarify\n",
      "Successfully installed squarify-0.4.4\n"
     ]
    }
   ],
   "source": [
    "!pip install pyodbc\n",
    "!pip install pandas\n",
    "!pip install squarify"
   ]
  },
  {
   "cell_type": "code",
   "execution_count": 38,
   "id": "ced0497a-e4e9-4b8b-842a-4b07185ec52e",
   "metadata": {},
   "outputs": [],
   "source": [
    "import pyodbc\n",
    "import pandas as pd\n",
    "import numpy as np\n",
    "import matplotlib.pyplot as plt\n",
    "import seaborn as sns\n",
    "from datetime import datetime\n",
    "from sqlalchemy import create_engine\n",
    "import urllib\n",
    "import warnings\n",
    "\n",
    "import squarify"
   ]
  },
  {
   "cell_type": "markdown",
   "id": "ecb58255-a7b3-4466-9234-862ea8beeced",
   "metadata": {},
   "source": [
    "# Defining the connection string\n"
   ]
  },
  {
   "cell_type": "code",
   "execution_count": 3,
   "id": "1ca9d618-e0e2-4870-938d-a87c3dc315d6",
   "metadata": {},
   "outputs": [
    {
     "name": "stderr",
     "output_type": "stream",
     "text": [
      "<>:1: SyntaxWarning: invalid escape sequence '\\S'\n",
      "<>:1: SyntaxWarning: invalid escape sequence '\\S'\n",
      "C:\\Users\\shiwa\\AppData\\Local\\Temp\\ipykernel_20412\\2884370732.py:1: SyntaxWarning: invalid escape sequence '\\S'\n",
      "  server = 'Shiwam\\SQLEXPRESS'\n"
     ]
    }
   ],
   "source": [
    "server = 'Shiwam\\SQLEXPRESS'\n",
    "database = 'BankLoan DB'\n",
    "cnn = pyodbc.connect('DRIVER={ODBC Driver 17 for SQL Server};SERVER='+server+';DATABASE='+database+';Trusted_Connection=yes;')\n",
    "cursor = cnn.cursor()"
   ]
  },
  {
   "cell_type": "markdown",
   "id": "772277f1-a58e-465f-88c1-f1295456f59b",
   "metadata": {},
   "source": [
    "# Importing data into pandas DataFrame from connected SQL Server"
   ]
  },
  {
   "cell_type": "code",
   "execution_count": 4,
   "id": "c9db3f98-76b7-4a24-a635-666208872fe0",
   "metadata": {},
   "outputs": [
    {
     "name": "stderr",
     "output_type": "stream",
     "text": [
      "C:\\Users\\shiwa\\AppData\\Local\\Temp\\ipykernel_20412\\1621250162.py:4: UserWarning: pandas only supports SQLAlchemy connectable (engine/connection) or database string URI or sqlite3 DBAPI2 connection. Other DBAPI2 objects are not tested. Please consider using SQLAlchemy.\n",
      "  df = pd.read_sql_query(\"SELECT * FROM bank_loan_data\", cnn)\n"
     ]
    }
   ],
   "source": [
    "# SQL query to import data from the database.\n",
    "# query = \"SELECT * FROM bank_loan_data\"\n",
    "\n",
    "df = pd.read_sql_query(\"SELECT * FROM bank_loan_data\", cnn)\n"
   ]
  },
  {
   "cell_type": "code",
   "execution_count": 5,
   "id": "2cc2482d-33e1-4373-924b-fdb34b71eaeb",
   "metadata": {},
   "outputs": [
    {
     "data": {
      "text/html": [
       "<div>\n",
       "<style scoped>\n",
       "    .dataframe tbody tr th:only-of-type {\n",
       "        vertical-align: middle;\n",
       "    }\n",
       "\n",
       "    .dataframe tbody tr th {\n",
       "        vertical-align: top;\n",
       "    }\n",
       "\n",
       "    .dataframe thead th {\n",
       "        text-align: right;\n",
       "    }\n",
       "</style>\n",
       "<table border=\"1\" class=\"dataframe\">\n",
       "  <thead>\n",
       "    <tr style=\"text-align: right;\">\n",
       "      <th></th>\n",
       "      <th>id</th>\n",
       "      <th>address_state</th>\n",
       "      <th>application_type</th>\n",
       "      <th>emp_length</th>\n",
       "      <th>emp_title</th>\n",
       "      <th>grade</th>\n",
       "      <th>home_ownership</th>\n",
       "      <th>issue_date</th>\n",
       "      <th>last_credit_pull_date</th>\n",
       "      <th>last_payment_date</th>\n",
       "      <th>...</th>\n",
       "      <th>sub_grade</th>\n",
       "      <th>term</th>\n",
       "      <th>verification_status</th>\n",
       "      <th>annual_income</th>\n",
       "      <th>dti</th>\n",
       "      <th>installment</th>\n",
       "      <th>int_rate</th>\n",
       "      <th>loan_amount</th>\n",
       "      <th>total_acc</th>\n",
       "      <th>total_payment</th>\n",
       "    </tr>\n",
       "  </thead>\n",
       "  <tbody>\n",
       "    <tr>\n",
       "      <th>0</th>\n",
       "      <td>54734</td>\n",
       "      <td>CA</td>\n",
       "      <td>INDIVIDUAL</td>\n",
       "      <td>&lt; 1 year</td>\n",
       "      <td>None</td>\n",
       "      <td>B</td>\n",
       "      <td>RENT</td>\n",
       "      <td>2021-08-09</td>\n",
       "      <td>2021-08-12</td>\n",
       "      <td>2021-10-11</td>\n",
       "      <td>...</td>\n",
       "      <td>B4</td>\n",
       "      <td>36 months</td>\n",
       "      <td>Verified</td>\n",
       "      <td>85000.0</td>\n",
       "      <td>0.1948</td>\n",
       "      <td>829.099976</td>\n",
       "      <td>0.1189</td>\n",
       "      <td>25000</td>\n",
       "      <td>42</td>\n",
       "      <td>29330</td>\n",
       "    </tr>\n",
       "    <tr>\n",
       "      <th>1</th>\n",
       "      <td>55742</td>\n",
       "      <td>NY</td>\n",
       "      <td>INDIVIDUAL</td>\n",
       "      <td>&lt; 1 year</td>\n",
       "      <td>CNN</td>\n",
       "      <td>B</td>\n",
       "      <td>RENT</td>\n",
       "      <td>2021-05-08</td>\n",
       "      <td>2021-08-12</td>\n",
       "      <td>2021-06-11</td>\n",
       "      <td>...</td>\n",
       "      <td>B5</td>\n",
       "      <td>36 months</td>\n",
       "      <td>Not Verified</td>\n",
       "      <td>65000.0</td>\n",
       "      <td>0.1429</td>\n",
       "      <td>228.220001</td>\n",
       "      <td>0.1071</td>\n",
       "      <td>7000</td>\n",
       "      <td>7</td>\n",
       "      <td>8216</td>\n",
       "    </tr>\n",
       "    <tr>\n",
       "      <th>2</th>\n",
       "      <td>57245</td>\n",
       "      <td>TX</td>\n",
       "      <td>INDIVIDUAL</td>\n",
       "      <td>10+ years</td>\n",
       "      <td>city of beaumont texas</td>\n",
       "      <td>C</td>\n",
       "      <td>OWN</td>\n",
       "      <td>2021-03-10</td>\n",
       "      <td>2021-05-16</td>\n",
       "      <td>2021-03-13</td>\n",
       "      <td>...</td>\n",
       "      <td>C2</td>\n",
       "      <td>36 months</td>\n",
       "      <td>Not Verified</td>\n",
       "      <td>54000.0</td>\n",
       "      <td>0.0547</td>\n",
       "      <td>40.500000</td>\n",
       "      <td>0.1311</td>\n",
       "      <td>1200</td>\n",
       "      <td>31</td>\n",
       "      <td>1458</td>\n",
       "    </tr>\n",
       "    <tr>\n",
       "      <th>3</th>\n",
       "      <td>57416</td>\n",
       "      <td>CT</td>\n",
       "      <td>INDIVIDUAL</td>\n",
       "      <td>6 years</td>\n",
       "      <td>State Farm Insurance</td>\n",
       "      <td>C</td>\n",
       "      <td>RENT</td>\n",
       "      <td>2021-11-09</td>\n",
       "      <td>2021-05-16</td>\n",
       "      <td>2021-11-12</td>\n",
       "      <td>...</td>\n",
       "      <td>C3</td>\n",
       "      <td>36 months</td>\n",
       "      <td>Not Verified</td>\n",
       "      <td>32000.0</td>\n",
       "      <td>0.1163</td>\n",
       "      <td>366.859985</td>\n",
       "      <td>0.1357</td>\n",
       "      <td>10800</td>\n",
       "      <td>40</td>\n",
       "      <td>13208</td>\n",
       "    </tr>\n",
       "    <tr>\n",
       "      <th>4</th>\n",
       "      <td>58915</td>\n",
       "      <td>CA</td>\n",
       "      <td>INDIVIDUAL</td>\n",
       "      <td>3 years</td>\n",
       "      <td>QUalcomm Inc</td>\n",
       "      <td>B</td>\n",
       "      <td>RENT</td>\n",
       "      <td>2021-04-08</td>\n",
       "      <td>2021-03-14</td>\n",
       "      <td>2021-04-11</td>\n",
       "      <td>...</td>\n",
       "      <td>B3</td>\n",
       "      <td>36 months</td>\n",
       "      <td>Not Verified</td>\n",
       "      <td>85000.0</td>\n",
       "      <td>0.0810</td>\n",
       "      <td>162.339996</td>\n",
       "      <td>0.1008</td>\n",
       "      <td>7500</td>\n",
       "      <td>11</td>\n",
       "      <td>5844</td>\n",
       "    </tr>\n",
       "  </tbody>\n",
       "</table>\n",
       "<p>5 rows × 24 columns</p>\n",
       "</div>"
      ],
      "text/plain": [
       "      id address_state application_type emp_length               emp_title  \\\n",
       "0  54734            CA       INDIVIDUAL   < 1 year                    None   \n",
       "1  55742            NY       INDIVIDUAL   < 1 year                     CNN   \n",
       "2  57245            TX       INDIVIDUAL  10+ years  city of beaumont texas   \n",
       "3  57416            CT       INDIVIDUAL    6 years    State Farm Insurance   \n",
       "4  58915            CA       INDIVIDUAL    3 years            QUalcomm Inc   \n",
       "\n",
       "  grade home_ownership  issue_date last_credit_pull_date last_payment_date  \\\n",
       "0     B           RENT  2021-08-09            2021-08-12        2021-10-11   \n",
       "1     B           RENT  2021-05-08            2021-08-12        2021-06-11   \n",
       "2     C            OWN  2021-03-10            2021-05-16        2021-03-13   \n",
       "3     C           RENT  2021-11-09            2021-05-16        2021-11-12   \n",
       "4     B           RENT  2021-04-08            2021-03-14        2021-04-11   \n",
       "\n",
       "   ... sub_grade       term  verification_status annual_income     dti  \\\n",
       "0  ...        B4  36 months             Verified       85000.0  0.1948   \n",
       "1  ...        B5  36 months         Not Verified       65000.0  0.1429   \n",
       "2  ...        C2  36 months         Not Verified       54000.0  0.0547   \n",
       "3  ...        C3  36 months         Not Verified       32000.0  0.1163   \n",
       "4  ...        B3  36 months         Not Verified       85000.0  0.0810   \n",
       "\n",
       "  installment int_rate  loan_amount  total_acc  total_payment  \n",
       "0  829.099976   0.1189        25000         42          29330  \n",
       "1  228.220001   0.1071         7000          7           8216  \n",
       "2   40.500000   0.1311         1200         31           1458  \n",
       "3  366.859985   0.1357        10800         40          13208  \n",
       "4  162.339996   0.1008         7500         11           5844  \n",
       "\n",
       "[5 rows x 24 columns]"
      ]
     },
     "execution_count": 5,
     "metadata": {},
     "output_type": "execute_result"
    }
   ],
   "source": [
    "# Display the first 5 rows of the DataFrame to verify the import\n",
    "df.head()"
   ]
  },
  {
   "cell_type": "markdown",
   "id": "4a4bcc2e-556d-42cf-a33c-0716124b1fd0",
   "metadata": {},
   "source": [
    "# Informations about the data set"
   ]
  },
  {
   "cell_type": "code",
   "execution_count": 6,
   "id": "86ab4425-f1cb-49ed-bbf4-6ca307207414",
   "metadata": {},
   "outputs": [
    {
     "name": "stdout",
     "output_type": "stream",
     "text": [
      "<class 'pandas.core.frame.DataFrame'>\n",
      "RangeIndex: 38576 entries, 0 to 38575\n",
      "Data columns (total 24 columns):\n",
      " #   Column                 Non-Null Count  Dtype  \n",
      "---  ------                 --------------  -----  \n",
      " 0   id                     38576 non-null  int64  \n",
      " 1   address_state          38576 non-null  object \n",
      " 2   application_type       38576 non-null  object \n",
      " 3   emp_length             38576 non-null  object \n",
      " 4   emp_title              37143 non-null  object \n",
      " 5   grade                  38576 non-null  object \n",
      " 6   home_ownership         38576 non-null  object \n",
      " 7   issue_date             38576 non-null  object \n",
      " 8   last_credit_pull_date  38576 non-null  object \n",
      " 9   last_payment_date      38576 non-null  object \n",
      " 10  loan_status            38576 non-null  object \n",
      " 11  next_payment_date      38576 non-null  object \n",
      " 12  member_id              38576 non-null  int64  \n",
      " 13  purpose                38576 non-null  object \n",
      " 14  sub_grade              38576 non-null  object \n",
      " 15  term                   38576 non-null  object \n",
      " 16  verification_status    38576 non-null  object \n",
      " 17  annual_income          38576 non-null  float64\n",
      " 18  dti                    38576 non-null  float64\n",
      " 19  installment            38576 non-null  float64\n",
      " 20  int_rate               38576 non-null  float64\n",
      " 21  loan_amount            38576 non-null  int64  \n",
      " 22  total_acc              38576 non-null  int64  \n",
      " 23  total_payment          38576 non-null  int64  \n",
      "dtypes: float64(4), int64(5), object(15)\n",
      "memory usage: 7.1+ MB\n"
     ]
    }
   ],
   "source": [
    "df.info()"
   ]
  },
  {
   "cell_type": "code",
   "execution_count": 7,
   "id": "781e2877-3fd3-407b-8c39-ec93fcf525b4",
   "metadata": {},
   "outputs": [
    {
     "data": {
      "text/html": [
       "<div>\n",
       "<style scoped>\n",
       "    .dataframe tbody tr th:only-of-type {\n",
       "        vertical-align: middle;\n",
       "    }\n",
       "\n",
       "    .dataframe tbody tr th {\n",
       "        vertical-align: top;\n",
       "    }\n",
       "\n",
       "    .dataframe thead th {\n",
       "        text-align: right;\n",
       "    }\n",
       "</style>\n",
       "<table border=\"1\" class=\"dataframe\">\n",
       "  <thead>\n",
       "    <tr style=\"text-align: right;\">\n",
       "      <th></th>\n",
       "      <th>id</th>\n",
       "      <th>member_id</th>\n",
       "      <th>annual_income</th>\n",
       "      <th>dti</th>\n",
       "      <th>installment</th>\n",
       "      <th>int_rate</th>\n",
       "      <th>loan_amount</th>\n",
       "      <th>total_acc</th>\n",
       "      <th>total_payment</th>\n",
       "    </tr>\n",
       "  </thead>\n",
       "  <tbody>\n",
       "    <tr>\n",
       "      <th>count</th>\n",
       "      <td>3.857600e+04</td>\n",
       "      <td>3.857600e+04</td>\n",
       "      <td>3.857600e+04</td>\n",
       "      <td>38576.000000</td>\n",
       "      <td>38576.000000</td>\n",
       "      <td>38576.000000</td>\n",
       "      <td>38576.000000</td>\n",
       "      <td>38576.000000</td>\n",
       "      <td>38576.000000</td>\n",
       "    </tr>\n",
       "    <tr>\n",
       "      <th>mean</th>\n",
       "      <td>6.810371e+05</td>\n",
       "      <td>8.476515e+05</td>\n",
       "      <td>6.964454e+04</td>\n",
       "      <td>0.133274</td>\n",
       "      <td>326.862965</td>\n",
       "      <td>0.120488</td>\n",
       "      <td>11296.066855</td>\n",
       "      <td>22.132544</td>\n",
       "      <td>12263.348533</td>\n",
       "    </tr>\n",
       "    <tr>\n",
       "      <th>std</th>\n",
       "      <td>2.113246e+05</td>\n",
       "      <td>2.668105e+05</td>\n",
       "      <td>6.429368e+04</td>\n",
       "      <td>0.066662</td>\n",
       "      <td>209.092000</td>\n",
       "      <td>0.037164</td>\n",
       "      <td>7460.746022</td>\n",
       "      <td>11.392282</td>\n",
       "      <td>9051.104777</td>\n",
       "    </tr>\n",
       "    <tr>\n",
       "      <th>min</th>\n",
       "      <td>5.473400e+04</td>\n",
       "      <td>7.069900e+04</td>\n",
       "      <td>4.000000e+03</td>\n",
       "      <td>0.000000</td>\n",
       "      <td>15.690000</td>\n",
       "      <td>0.054200</td>\n",
       "      <td>500.000000</td>\n",
       "      <td>2.000000</td>\n",
       "      <td>34.000000</td>\n",
       "    </tr>\n",
       "    <tr>\n",
       "      <th>25%</th>\n",
       "      <td>5.135170e+05</td>\n",
       "      <td>6.629788e+05</td>\n",
       "      <td>4.150000e+04</td>\n",
       "      <td>0.082100</td>\n",
       "      <td>168.449997</td>\n",
       "      <td>0.093200</td>\n",
       "      <td>5500.000000</td>\n",
       "      <td>14.000000</td>\n",
       "      <td>5633.000000</td>\n",
       "    </tr>\n",
       "    <tr>\n",
       "      <th>50%</th>\n",
       "      <td>6.627280e+05</td>\n",
       "      <td>8.473565e+05</td>\n",
       "      <td>6.000000e+04</td>\n",
       "      <td>0.134200</td>\n",
       "      <td>283.044998</td>\n",
       "      <td>0.118600</td>\n",
       "      <td>10000.000000</td>\n",
       "      <td>20.000000</td>\n",
       "      <td>10042.000000</td>\n",
       "    </tr>\n",
       "    <tr>\n",
       "      <th>75%</th>\n",
       "      <td>8.365060e+05</td>\n",
       "      <td>1.045652e+06</td>\n",
       "      <td>8.320050e+04</td>\n",
       "      <td>0.185900</td>\n",
       "      <td>434.442497</td>\n",
       "      <td>0.145900</td>\n",
       "      <td>15000.000000</td>\n",
       "      <td>29.000000</td>\n",
       "      <td>16658.000000</td>\n",
       "    </tr>\n",
       "    <tr>\n",
       "      <th>max</th>\n",
       "      <td>1.077501e+06</td>\n",
       "      <td>1.314167e+06</td>\n",
       "      <td>6.000000e+06</td>\n",
       "      <td>0.299900</td>\n",
       "      <td>1305.189941</td>\n",
       "      <td>0.245900</td>\n",
       "      <td>35000.000000</td>\n",
       "      <td>90.000000</td>\n",
       "      <td>58564.000000</td>\n",
       "    </tr>\n",
       "  </tbody>\n",
       "</table>\n",
       "</div>"
      ],
      "text/plain": [
       "                 id     member_id  annual_income           dti   installment  \\\n",
       "count  3.857600e+04  3.857600e+04   3.857600e+04  38576.000000  38576.000000   \n",
       "mean   6.810371e+05  8.476515e+05   6.964454e+04      0.133274    326.862965   \n",
       "std    2.113246e+05  2.668105e+05   6.429368e+04      0.066662    209.092000   \n",
       "min    5.473400e+04  7.069900e+04   4.000000e+03      0.000000     15.690000   \n",
       "25%    5.135170e+05  6.629788e+05   4.150000e+04      0.082100    168.449997   \n",
       "50%    6.627280e+05  8.473565e+05   6.000000e+04      0.134200    283.044998   \n",
       "75%    8.365060e+05  1.045652e+06   8.320050e+04      0.185900    434.442497   \n",
       "max    1.077501e+06  1.314167e+06   6.000000e+06      0.299900   1305.189941   \n",
       "\n",
       "           int_rate   loan_amount     total_acc  total_payment  \n",
       "count  38576.000000  38576.000000  38576.000000   38576.000000  \n",
       "mean       0.120488  11296.066855     22.132544   12263.348533  \n",
       "std        0.037164   7460.746022     11.392282    9051.104777  \n",
       "min        0.054200    500.000000      2.000000      34.000000  \n",
       "25%        0.093200   5500.000000     14.000000    5633.000000  \n",
       "50%        0.118600  10000.000000     20.000000   10042.000000  \n",
       "75%        0.145900  15000.000000     29.000000   16658.000000  \n",
       "max        0.245900  35000.000000     90.000000   58564.000000  "
      ]
     },
     "execution_count": 7,
     "metadata": {},
     "output_type": "execute_result"
    }
   ],
   "source": [
    "df.describe()"
   ]
  },
  {
   "cell_type": "code",
   "execution_count": 8,
   "id": "b5209a53-9bdf-41bf-a01d-7c30b74cef8d",
   "metadata": {},
   "outputs": [
    {
     "data": {
      "text/plain": [
       "pandas.core.frame.DataFrame"
      ]
     },
     "execution_count": 8,
     "metadata": {},
     "output_type": "execute_result"
    }
   ],
   "source": [
    "type(df)"
   ]
  },
  {
   "cell_type": "code",
   "execution_count": 9,
   "id": "868ca40b-cf7b-43f7-a20e-947cffbf55aa",
   "metadata": {},
   "outputs": [
    {
     "data": {
      "text/plain": [
       "Index(['id', 'address_state', 'application_type', 'emp_length', 'emp_title',\n",
       "       'grade', 'home_ownership', 'issue_date', 'last_credit_pull_date',\n",
       "       'last_payment_date', 'loan_status', 'next_payment_date', 'member_id',\n",
       "       'purpose', 'sub_grade', 'term', 'verification_status', 'annual_income',\n",
       "       'dti', 'installment', 'int_rate', 'loan_amount', 'total_acc',\n",
       "       'total_payment'],\n",
       "      dtype='object')"
      ]
     },
     "execution_count": 9,
     "metadata": {},
     "output_type": "execute_result"
    }
   ],
   "source": [
    "# to get all the column names\n",
    "df.columns \n"
   ]
  },
  {
   "cell_type": "code",
   "execution_count": 10,
   "id": "d6f58a6e-a6a1-41c1-a5df-cea8bb094e20",
   "metadata": {},
   "outputs": [
    {
     "data": {
      "text/plain": [
       "array([  54734,   55742,   57245, ..., 1077175, 1077430, 1077501],\n",
       "      dtype=int64)"
      ]
     },
     "execution_count": 10,
     "metadata": {},
     "output_type": "execute_result"
    }
   ],
   "source": [
    "# .unique() will search the entire column and give you the unique element.\n",
    "df['id'].unique() "
   ]
  },
  {
   "cell_type": "code",
   "execution_count": 11,
   "id": "56801a95-a28f-4a07-96c0-3bfd9de0abc4",
   "metadata": {},
   "outputs": [
    {
     "data": {
      "text/plain": [
       "(38576, 24)"
      ]
     },
     "execution_count": 11,
     "metadata": {},
     "output_type": "execute_result"
    }
   ],
   "source": [
    "# shape of the dataframe\n",
    "df.shape "
   ]
  },
  {
   "cell_type": "code",
   "execution_count": 12,
   "id": "13d4d11e-3dd5-461f-8166-3e6ac67b70fe",
   "metadata": {},
   "outputs": [
    {
     "data": {
      "text/plain": [
       "id                          0\n",
       "address_state               0\n",
       "application_type            0\n",
       "emp_length                  0\n",
       "emp_title                1433\n",
       "grade                       0\n",
       "home_ownership              0\n",
       "issue_date                  0\n",
       "last_credit_pull_date       0\n",
       "last_payment_date           0\n",
       "loan_status                 0\n",
       "next_payment_date           0\n",
       "member_id                   0\n",
       "purpose                     0\n",
       "sub_grade                   0\n",
       "term                        0\n",
       "verification_status         0\n",
       "annual_income               0\n",
       "dti                         0\n",
       "installment                 0\n",
       "int_rate                    0\n",
       "loan_amount                 0\n",
       "total_acc                   0\n",
       "total_payment               0\n",
       "dtype: int64"
      ]
     },
     "execution_count": 12,
     "metadata": {},
     "output_type": "execute_result"
    }
   ],
   "source": [
    "# Check for missing values\n",
    "df.isnull().sum()"
   ]
  },
  {
   "cell_type": "markdown",
   "id": "2290a248-f9da-43ea-af76-dfae8ef2bd62",
   "metadata": {},
   "source": [
    "#  Data Cleaning and Preparation"
   ]
  },
  {
   "cell_type": "code",
   "execution_count": 13,
   "id": "09714105-20c0-431c-885d-ccf48c9157e8",
   "metadata": {},
   "outputs": [],
   "source": [
    "# Converting 'issue_date' to a datetime object\n",
    "df['issue_date'] = pd.to_datetime(df['issue_date'], format='%d-%m-%Y')\n",
    "\n"
   ]
  },
  {
   "cell_type": "code",
   "execution_count": 14,
   "id": "21860fa6-18c8-42b3-b543-9a3a215aa34c",
   "metadata": {},
   "outputs": [],
   "source": [
    "# Defining 'Good Loan' and 'Bad Loan' categories\n",
    "good_loan_status = ['Fully Paid', 'Current']\n",
    "bad_loan_status = ['Charged Off', 'Late (31-120 days)', 'In Grace Period', 'Late (16-30 days)']\n",
    "\n"
   ]
  },
  {
   "cell_type": "code",
   "execution_count": 15,
   "id": "0b46ee49-d8d7-486d-8ccf-554bd7b6980e",
   "metadata": {},
   "outputs": [],
   "source": [
    "# Creating new columns to classify loans\n",
    "df['loan_category'] = df['loan_status'].apply(lambda x: 'Good Loan' if x in good_loan_status else ('Bad Loan' if x in bad_loan_status else 'Other'))\n"
   ]
  },
  {
   "cell_type": "code",
   "execution_count": 16,
   "id": "d9edbef8-4be3-499f-8501-3ada1448fff9",
   "metadata": {},
   "outputs": [
    {
     "data": {
      "text/html": [
       "<div>\n",
       "<style scoped>\n",
       "    .dataframe tbody tr th:only-of-type {\n",
       "        vertical-align: middle;\n",
       "    }\n",
       "\n",
       "    .dataframe tbody tr th {\n",
       "        vertical-align: top;\n",
       "    }\n",
       "\n",
       "    .dataframe thead th {\n",
       "        text-align: right;\n",
       "    }\n",
       "</style>\n",
       "<table border=\"1\" class=\"dataframe\">\n",
       "  <thead>\n",
       "    <tr style=\"text-align: right;\">\n",
       "      <th></th>\n",
       "      <th>id</th>\n",
       "      <th>address_state</th>\n",
       "      <th>application_type</th>\n",
       "      <th>emp_length</th>\n",
       "      <th>emp_title</th>\n",
       "      <th>grade</th>\n",
       "      <th>home_ownership</th>\n",
       "      <th>issue_date</th>\n",
       "      <th>last_credit_pull_date</th>\n",
       "      <th>last_payment_date</th>\n",
       "      <th>...</th>\n",
       "      <th>term</th>\n",
       "      <th>verification_status</th>\n",
       "      <th>annual_income</th>\n",
       "      <th>dti</th>\n",
       "      <th>installment</th>\n",
       "      <th>int_rate</th>\n",
       "      <th>loan_amount</th>\n",
       "      <th>total_acc</th>\n",
       "      <th>total_payment</th>\n",
       "      <th>loan_category</th>\n",
       "    </tr>\n",
       "  </thead>\n",
       "  <tbody>\n",
       "    <tr>\n",
       "      <th>0</th>\n",
       "      <td>54734</td>\n",
       "      <td>CA</td>\n",
       "      <td>INDIVIDUAL</td>\n",
       "      <td>&lt; 1 year</td>\n",
       "      <td>None</td>\n",
       "      <td>B</td>\n",
       "      <td>RENT</td>\n",
       "      <td>2021-08-09</td>\n",
       "      <td>2021-08-12</td>\n",
       "      <td>2021-10-11</td>\n",
       "      <td>...</td>\n",
       "      <td>36 months</td>\n",
       "      <td>Verified</td>\n",
       "      <td>85000.0</td>\n",
       "      <td>0.1948</td>\n",
       "      <td>829.099976</td>\n",
       "      <td>0.1189</td>\n",
       "      <td>25000</td>\n",
       "      <td>42</td>\n",
       "      <td>29330</td>\n",
       "      <td>Good Loan</td>\n",
       "    </tr>\n",
       "    <tr>\n",
       "      <th>1</th>\n",
       "      <td>55742</td>\n",
       "      <td>NY</td>\n",
       "      <td>INDIVIDUAL</td>\n",
       "      <td>&lt; 1 year</td>\n",
       "      <td>CNN</td>\n",
       "      <td>B</td>\n",
       "      <td>RENT</td>\n",
       "      <td>2021-05-08</td>\n",
       "      <td>2021-08-12</td>\n",
       "      <td>2021-06-11</td>\n",
       "      <td>...</td>\n",
       "      <td>36 months</td>\n",
       "      <td>Not Verified</td>\n",
       "      <td>65000.0</td>\n",
       "      <td>0.1429</td>\n",
       "      <td>228.220001</td>\n",
       "      <td>0.1071</td>\n",
       "      <td>7000</td>\n",
       "      <td>7</td>\n",
       "      <td>8216</td>\n",
       "      <td>Good Loan</td>\n",
       "    </tr>\n",
       "    <tr>\n",
       "      <th>2</th>\n",
       "      <td>57245</td>\n",
       "      <td>TX</td>\n",
       "      <td>INDIVIDUAL</td>\n",
       "      <td>10+ years</td>\n",
       "      <td>city of beaumont texas</td>\n",
       "      <td>C</td>\n",
       "      <td>OWN</td>\n",
       "      <td>2021-03-10</td>\n",
       "      <td>2021-05-16</td>\n",
       "      <td>2021-03-13</td>\n",
       "      <td>...</td>\n",
       "      <td>36 months</td>\n",
       "      <td>Not Verified</td>\n",
       "      <td>54000.0</td>\n",
       "      <td>0.0547</td>\n",
       "      <td>40.500000</td>\n",
       "      <td>0.1311</td>\n",
       "      <td>1200</td>\n",
       "      <td>31</td>\n",
       "      <td>1458</td>\n",
       "      <td>Good Loan</td>\n",
       "    </tr>\n",
       "    <tr>\n",
       "      <th>3</th>\n",
       "      <td>57416</td>\n",
       "      <td>CT</td>\n",
       "      <td>INDIVIDUAL</td>\n",
       "      <td>6 years</td>\n",
       "      <td>State Farm Insurance</td>\n",
       "      <td>C</td>\n",
       "      <td>RENT</td>\n",
       "      <td>2021-11-09</td>\n",
       "      <td>2021-05-16</td>\n",
       "      <td>2021-11-12</td>\n",
       "      <td>...</td>\n",
       "      <td>36 months</td>\n",
       "      <td>Not Verified</td>\n",
       "      <td>32000.0</td>\n",
       "      <td>0.1163</td>\n",
       "      <td>366.859985</td>\n",
       "      <td>0.1357</td>\n",
       "      <td>10800</td>\n",
       "      <td>40</td>\n",
       "      <td>13208</td>\n",
       "      <td>Good Loan</td>\n",
       "    </tr>\n",
       "    <tr>\n",
       "      <th>4</th>\n",
       "      <td>58915</td>\n",
       "      <td>CA</td>\n",
       "      <td>INDIVIDUAL</td>\n",
       "      <td>3 years</td>\n",
       "      <td>QUalcomm Inc</td>\n",
       "      <td>B</td>\n",
       "      <td>RENT</td>\n",
       "      <td>2021-04-08</td>\n",
       "      <td>2021-03-14</td>\n",
       "      <td>2021-04-11</td>\n",
       "      <td>...</td>\n",
       "      <td>36 months</td>\n",
       "      <td>Not Verified</td>\n",
       "      <td>85000.0</td>\n",
       "      <td>0.0810</td>\n",
       "      <td>162.339996</td>\n",
       "      <td>0.1008</td>\n",
       "      <td>7500</td>\n",
       "      <td>11</td>\n",
       "      <td>5844</td>\n",
       "      <td>Good Loan</td>\n",
       "    </tr>\n",
       "  </tbody>\n",
       "</table>\n",
       "<p>5 rows × 25 columns</p>\n",
       "</div>"
      ],
      "text/plain": [
       "      id address_state application_type emp_length               emp_title  \\\n",
       "0  54734            CA       INDIVIDUAL   < 1 year                    None   \n",
       "1  55742            NY       INDIVIDUAL   < 1 year                     CNN   \n",
       "2  57245            TX       INDIVIDUAL  10+ years  city of beaumont texas   \n",
       "3  57416            CT       INDIVIDUAL    6 years    State Farm Insurance   \n",
       "4  58915            CA       INDIVIDUAL    3 years            QUalcomm Inc   \n",
       "\n",
       "  grade home_ownership issue_date last_credit_pull_date last_payment_date  \\\n",
       "0     B           RENT 2021-08-09            2021-08-12        2021-10-11   \n",
       "1     B           RENT 2021-05-08            2021-08-12        2021-06-11   \n",
       "2     C            OWN 2021-03-10            2021-05-16        2021-03-13   \n",
       "3     C           RENT 2021-11-09            2021-05-16        2021-11-12   \n",
       "4     B           RENT 2021-04-08            2021-03-14        2021-04-11   \n",
       "\n",
       "   ...       term verification_status  annual_income     dti installment  \\\n",
       "0  ...  36 months            Verified        85000.0  0.1948  829.099976   \n",
       "1  ...  36 months        Not Verified        65000.0  0.1429  228.220001   \n",
       "2  ...  36 months        Not Verified        54000.0  0.0547   40.500000   \n",
       "3  ...  36 months        Not Verified        32000.0  0.1163  366.859985   \n",
       "4  ...  36 months        Not Verified        85000.0  0.0810  162.339996   \n",
       "\n",
       "  int_rate loan_amount  total_acc  total_payment  loan_category  \n",
       "0   0.1189       25000         42          29330      Good Loan  \n",
       "1   0.1071        7000          7           8216      Good Loan  \n",
       "2   0.1311        1200         31           1458      Good Loan  \n",
       "3   0.1357       10800         40          13208      Good Loan  \n",
       "4   0.1008        7500         11           5844      Good Loan  \n",
       "\n",
       "[5 rows x 25 columns]"
      ]
     },
     "execution_count": 16,
     "metadata": {},
     "output_type": "execute_result"
    }
   ],
   "source": [
    "df.head()"
   ]
  },
  {
   "cell_type": "markdown",
   "id": "ca8864bf-a18c-4228-8068-2b41d4105657",
   "metadata": {},
   "source": [
    "# Analyzing and SQL query"
   ]
  },
  {
   "cell_type": "markdown",
   "id": "2fcbb37d-9377-413e-8700-444284fa9a7f",
   "metadata": {},
   "source": [
    "## KPI Calculations"
   ]
  },
  {
   "cell_type": "markdown",
   "id": "e6367fc9-5023-40db-a4c7-6ec5d0def763",
   "metadata": {},
   "source": [
    "## 1. Summary"
   ]
  },
  {
   "cell_type": "code",
   "execution_count": 17,
   "id": "6aedefca-9871-465d-a8fe-35ef288820ac",
   "metadata": {},
   "outputs": [
    {
     "name": "stdout",
     "output_type": "stream",
     "text": [
      "--- Summary KPIs ---\n",
      "Total Loan Applications: 38576\n",
      "Total Funded Amount: $435,757,075.00\n",
      "Total Amount Received: $473,070,933.00\n",
      "Average Interest Rate: 12.05%\n",
      "Average DTI: 0.13\n"
     ]
    }
   ],
   "source": [
    "# Calculating Total Loan Applications\n",
    "total_loan_applications = df.shape[0]\n",
    "\n",
    "# Calculating Total Funded Amount\n",
    "total_funded_amount = df['loan_amount'].sum()\n",
    "\n",
    "# Calculating Total Amount Received\n",
    "total_amount_received = df['total_payment'].sum()\n",
    "\n",
    "# Calculating Average Interest Rate\n",
    "avg_interest_rate = df['int_rate'].mean()\n",
    "\n",
    "# Calculating Average DTI (Debt-to-Income)\n",
    "avg_dti = df['dti'].mean()\n",
    "\n",
    "print(\"--- Summary KPIs ---\")\n",
    "print(f\"Total Loan Applications: {total_loan_applications}\")\n",
    "print(f\"Total Funded Amount: ${total_funded_amount:,.2f}\")\n",
    "print(f\"Total Amount Received: ${total_amount_received:,.2f}\")\n",
    "print(f\"Average Interest Rate: {avg_interest_rate:.2%}\")\n",
    "print(f\"Average DTI: {avg_dti:.2f}\")"
   ]
  },
  {
   "cell_type": "markdown",
   "id": "e43c44fa-b92a-4011-b477-9dea79da6f10",
   "metadata": {},
   "source": [
    "## 2. Good Loan"
   ]
  },
  {
   "cell_type": "code",
   "execution_count": 18,
   "id": "5a62d46f-c01d-413d-bdb9-be9a537f8721",
   "metadata": {},
   "outputs": [
    {
     "name": "stdout",
     "output_type": "stream",
     "text": [
      "\n",
      "--- Good Loan KPIs ---\n",
      "Good Loan Percentage: 86.18%\n",
      "Total Good Loan Applications: 33243\n",
      "Total Good Loan Funded Amount: $370,224,850.00\n",
      "Total Good Loan Amount Received: $435,786,170.00\n"
     ]
    }
   ],
   "source": [
    "# Filtering the DataFrame for good loans\n",
    "good_loan_df = df[df['loan_category'] == 'Good Loan']\n",
    "\n",
    "# Calculating Good Loan Percentage\n",
    "total_good_loans = good_loan_df.shape[0]\n",
    "good_loan_percentage = (total_good_loans / total_loan_applications) * 100\n",
    "\n",
    "# Calculating Good Loan Funded Amount\n",
    "good_loan_funded_amount = good_loan_df['loan_amount'].sum()\n",
    "\n",
    "# Calculating Good Loan Received Amount\n",
    "good_loan_amount_received = good_loan_df['total_payment'].sum()\n",
    "\n",
    "print(\"\\n--- Good Loan KPIs ---\")\n",
    "print(f\"Good Loan Percentage: {good_loan_percentage:.2f}%\")\n",
    "print(f\"Total Good Loan Applications: {total_good_loans}\")\n",
    "print(f\"Total Good Loan Funded Amount: ${good_loan_funded_amount:,.2f}\")\n",
    "print(f\"Total Good Loan Amount Received: ${good_loan_amount_received:,.2f}\")"
   ]
  },
  {
   "cell_type": "markdown",
   "id": "f802a476-0ab4-4e65-aa9d-1d1271c97214",
   "metadata": {},
   "source": [
    "## 3. Bad Loan "
   ]
  },
  {
   "cell_type": "code",
   "execution_count": 19,
   "id": "b41ade4c-5ec6-431d-867a-44bf083a8717",
   "metadata": {},
   "outputs": [
    {
     "name": "stdout",
     "output_type": "stream",
     "text": [
      "\n",
      "--- Bad Loan KPIs ---\n",
      "Bad Loan Percentage: 13.82%\n",
      "Total Bad Loan Applications: 5333\n",
      "Total Bad Loan Funded Amount: $65,532,225.00\n",
      "Total Bad Loan Amount Received: $37,284,763.00\n"
     ]
    }
   ],
   "source": [
    "# Filtering the DataFrame for bad loans\n",
    "bad_loan_df = df[df['loan_category'] == 'Bad Loan']\n",
    "\n",
    "# Calculating Bad Loan Percentage\n",
    "total_bad_loans = bad_loan_df.shape[0]\n",
    "bad_loan_percentage = (total_bad_loans / total_loan_applications) * 100\n",
    "\n",
    "\n",
    "\n",
    "# Calculating Bad Loan Funded Amount\n",
    "bad_loan_funded_amount = bad_loan_df['loan_amount'].sum()\n",
    "\n",
    "# Calculating Bad Loan Received Amount\n",
    "bad_loan_amount_received = bad_loan_df['total_payment'].sum()\n",
    "\n",
    "print(\"\\n--- Bad Loan KPIs ---\")\n",
    "print(f\"Bad Loan Percentage: {bad_loan_percentage:.2f}%\")\n",
    "print(f\"Total Bad Loan Applications: {total_bad_loans}\")\n",
    "print(f\"Total Bad Loan Funded Amount: ${bad_loan_funded_amount:,.2f}\")\n",
    "print(f\"Total Bad Loan Amount Received: ${bad_loan_amount_received:,.2f}\")"
   ]
  },
  {
   "cell_type": "markdown",
   "id": "60df2819-ba1c-478f-a8b2-e25f7565e990",
   "metadata": {},
   "source": [
    "## 4. Time-Series Analysis"
   ]
  },
  {
   "cell_type": "code",
   "execution_count": 20,
   "id": "0d77627b-1cb6-4f9c-a775-9f35b736813a",
   "metadata": {
    "scrolled": true
   },
   "outputs": [
    {
     "name": "stdout",
     "output_type": "stream",
     "text": [
      "MoM_Total_Loan_Applications:\n",
      "   issue_date  Total_Loan_Applications  MoM_Total_Loan_Applications\n",
      "0  2021-01-01                        2                          NaN\n",
      "1  2021-01-05                        1                   -50.000000\n",
      "2  2021-01-08                      171                 17000.000000\n",
      "3  2021-01-09                      239                    39.766082\n",
      "4  2021-01-10                      583                   143.933054\n",
      "..        ...                      ...                          ...\n",
      "60 2021-12-08                      222                   161.176471\n",
      "61 2021-12-09                      597                   168.918919\n",
      "62 2021-12-10                     1220                   104.355109\n",
      "63 2021-12-11                     2188                    79.344262\n",
      "64 2021-12-12                        1                   -99.954296\n",
      "\n",
      "[65 rows x 3 columns]\n"
     ]
    }
   ],
   "source": [
    "# Creating a DataFrame for time-series analysis\n",
    "monthly_data = df.groupby('issue_date').agg(\n",
    "    Total_Loan_Applications=('id', 'count'),\n",
    ").reset_index().sort_values('issue_date')\n",
    "\n",
    "# Calculating Month-over-Month (MoM) changes for MoM_Applications_Change:\n",
    "monthly_data['MoM_Total_Loan_Applications'] = monthly_data['Total_Loan_Applications'].pct_change() * 100\n",
    "\n",
    "print(\"MoM_Total_Loan_Applications:\")\n",
    "print(monthly_data)"
   ]
  },
  {
   "cell_type": "code",
   "execution_count": 21,
   "id": "2537a6a8-d193-42b8-95a7-61a08b5c6067",
   "metadata": {},
   "outputs": [
    {
     "name": "stdout",
     "output_type": "stream",
     "text": [
      "MoM_Total_Funded_Amount:\n",
      "   issue_date  Total_Funded_Amount  MoM_Total_Funded_Amount\n",
      "0  2021-01-01                 6500                      NaN\n",
      "1  2021-01-05                12000                84.615385\n",
      "2  2021-01-08              1761050             14575.416667\n",
      "3  2021-01-09              2186225                24.143267\n",
      "4  2021-01-10              6540475               199.167515\n",
      "..        ...                  ...                      ...\n",
      "60 2021-12-08              2289500               132.159607\n",
      "61 2021-12-09              6485825               183.285652\n",
      "62 2021-12-10             13345500               105.764109\n",
      "63 2021-12-11             30866375               131.286763\n",
      "64 2021-12-12                 5000               -99.983801\n",
      "\n",
      "[65 rows x 3 columns]\n"
     ]
    }
   ],
   "source": [
    "# Creating a DataFrame for time-series analysis\n",
    "monthly_data = df.groupby('issue_date').agg(\n",
    "    Total_Funded_Amount = ('loan_amount', 'sum'),\n",
    ").reset_index().sort_values('issue_date')\n",
    "\n",
    "# Calculating Month-over-Month (MoM) changes for Total_Funded_Amount\n",
    "monthly_data['MoM_Total_Funded_Amount'] = monthly_data['Total_Funded_Amount'].pct_change() * 100\n",
    "\n",
    "print(\"MoM_Total_Funded_Amount:\")\n",
    "print(monthly_data)"
   ]
  },
  {
   "cell_type": "code",
   "execution_count": 22,
   "id": "c0003620-9e8b-4e0a-850c-5218ffb0f498",
   "metadata": {},
   "outputs": [
    {
     "name": "stdout",
     "output_type": "stream",
     "text": [
      "MoM_Total_Amount_Received:\n",
      "   issue_date  Total_Amount_Received  MoM_Total_Amount_Received\n",
      "0  2021-01-01                   7774                        NaN\n",
      "1  2021-01-05                   3522                 -54.695138\n",
      "2  2021-01-08                1794520               50851.731970\n",
      "3  2021-01-09                2387251                  33.030058\n",
      "4  2021-01-10                7143595                 199.239376\n",
      "..        ...                    ...                        ...\n",
      "60 2021-12-08                2299219                 138.090549\n",
      "61 2021-12-09                7221725                 214.094699\n",
      "62 2021-12-10               14010631                  94.006709\n",
      "63 2021-12-11               33567713                 139.587446\n",
      "64 2021-12-12                   5863                 -99.982534\n",
      "\n",
      "[65 rows x 3 columns]\n"
     ]
    }
   ],
   "source": [
    "# Creating a DataFrame for time-series analysis\n",
    "monthly_data = df.groupby('issue_date').agg(\n",
    "    Total_Amount_Received=('total_payment', 'sum')\n",
    ").reset_index().sort_values('issue_date')\n",
    "\n",
    "# Calculating Month-over-Month (MoM) changes for key metrics\n",
    "monthly_data['MoM_Total_Amount_Received'] = monthly_data['Total_Amount_Received'].pct_change() * 100\n",
    "\n",
    "print(\"MoM_Total_Amount_Received:\")\n",
    "print(monthly_data)"
   ]
  },
  {
   "cell_type": "markdown",
   "id": "4b04d196-70c0-4481-bc5d-245b85ea3a3a",
   "metadata": {},
   "source": [
    "# Detailed Breakdown Analyses"
   ]
  },
  {
   "cell_type": "code",
   "execution_count": 23,
   "id": "8f7ee520-a85f-4822-b043-56a91c3d7a8d",
   "metadata": {},
   "outputs": [
    {
     "name": "stdout",
     "output_type": "stream",
     "text": [
      "\n",
      "Loan Status Breakdown:\n",
      "   loan_status  Total_Loan_Applications  Total_Funded_Amount  \\\n",
      "0  Charged Off                     5333             65532225   \n",
      "1      Current                     1098             18866500   \n",
      "2   Fully Paid                    32145            351358350   \n",
      "\n",
      "   Total_Amount_Received  \n",
      "0               37284763  \n",
      "1               24199914  \n",
      "2              411586256  \n"
     ]
    }
   ],
   "source": [
    "# Loan Status Breakdown (reproduces the SQL query)\n",
    "loan_status_df = df.groupby('loan_status').agg(\n",
    "    Total_Loan_Applications=('id', 'count'),\n",
    "    Total_Funded_Amount=('loan_amount', 'sum'),\n",
    "    Total_Amount_Received=('total_payment', 'sum')\n",
    ").reset_index()\n",
    "\n",
    "print(\"\\nLoan Status Breakdown:\")\n",
    "print(loan_status_df)\n",
    "\n",
    "\n"
   ]
  },
  {
   "cell_type": "code",
   "execution_count": 24,
   "id": "4388bf0b-48bc-4a24-8afa-e1df5da002e2",
   "metadata": {
    "scrolled": true
   },
   "outputs": [
    {
     "name": "stdout",
     "output_type": "stream",
     "text": [
      "\n",
      "Grade and Sub Grade Analysis:\n",
      "   grade sub_grade  Total_Loan_Applications  Total_Funded_Amount  \\\n",
      "0      A        A1                     1052              7693100   \n",
      "1      A        A2                     1440             10620475   \n",
      "2      A        A3                     1740             13727700   \n",
      "3      A        A4                     2803             26426425   \n",
      "4      A        A5                     2654             25784525   \n",
      "5      B        B1                     1751             17260875   \n",
      "6      B        B2                     1990             21144550   \n",
      "7      B        B3                     2834             33061350   \n",
      "8      B        B4                     2455             28296300   \n",
      "9      B        B5                     2644             30940900   \n",
      "10     C        C1                     2089             23497800   \n",
      "11     C        C2                     1972             22649200   \n",
      "12     C        C3                     1490             16274575   \n",
      "13     C        C4                     1202             12763450   \n",
      "14     C        C5                     1151             12271425   \n",
      "15     D        D1                      913              9213325   \n",
      "16     D        D2                     1314             15278775   \n",
      "17     D        D3                     1144             14480825   \n",
      "18     D        D4                      960             12996975   \n",
      "19     D        D5                      851             11950900   \n",
      "20     E        E1                      750             11093725   \n",
      "21     E        E2                      640              9681000   \n",
      "22     E        E3                      538              8425475   \n",
      "23     E        E4                      448              7498075   \n",
      "24     E        E5                      410              7466825   \n",
      "25     F        F1                      325              5887725   \n",
      "26     F        F2                      243              4361475   \n",
      "27     F        F3                      182              3307875   \n",
      "28     F        F4                      163              3003950   \n",
      "29     F        F5                      115              2349425   \n",
      "30     G        G1                      101              2028575   \n",
      "31     G        G2                       78              1613300   \n",
      "32     G        G3                       48               965350   \n",
      "33     G        G4                       56              1144300   \n",
      "34     G        G5                       30               596550   \n",
      "\n",
      "    Total_Amount_Received  \n",
      "0                 8171344  \n",
      "1                11082709  \n",
      "2                14240728  \n",
      "3                27588306  \n",
      "4                26968476  \n",
      "5                18764421  \n",
      "6                22809593  \n",
      "7                35511089  \n",
      "8                30219761  \n",
      "9                33470151  \n",
      "10               25684240  \n",
      "11               25087567  \n",
      "12               17762190  \n",
      "13               13860863  \n",
      "14               13578658  \n",
      "15               10110847  \n",
      "16               17036661  \n",
      "17               15883049  \n",
      "18               14541451  \n",
      "19               13251883  \n",
      "20               12114993  \n",
      "21               10829547  \n",
      "22                9627459  \n",
      "23                8281760  \n",
      "24                8310392  \n",
      "25                6658997  \n",
      "26                4893851  \n",
      "27                3837036  \n",
      "28                3210272  \n",
      "29                2416582  \n",
      "30                2383999  \n",
      "31                1756536  \n",
      "32                1029779  \n",
      "33                1446039  \n",
      "34                 649704  \n"
     ]
    }
   ],
   "source": [
    "# Grade and Sub Grade Analysis (reproduces the SQL query)\n",
    "grade_df = df.groupby(['grade', 'sub_grade']).agg(\n",
    "    Total_Loan_Applications=('id', 'count'),\n",
    "    Total_Funded_Amount=('loan_amount', 'sum'),\n",
    "    Total_Amount_Received=('total_payment', 'sum')\n",
    ").reset_index()\n",
    "\n",
    "print(\"\\nGrade and Sub Grade Analysis:\")\n",
    "print(grade_df)\n",
    "\n",
    "\n"
   ]
  },
  {
   "cell_type": "code",
   "execution_count": 25,
   "id": "eae641c4-7b9c-4db1-9eca-723912ba6d62",
   "metadata": {
    "scrolled": true
   },
   "outputs": [
    {
     "name": "stdout",
     "output_type": "stream",
     "text": [
      "\n",
      "Purpose Breakdown:\n",
      "               purpose  Total_Loan_Applications  Total_Funded_Amount  \\\n",
      "0   Debt consolidation                    18214            232459675   \n",
      "1                  car                     1497             10223575   \n",
      "2          credit card                     4998             58885175   \n",
      "3          educational                      315              2161650   \n",
      "4     home improvement                     2876             33350775   \n",
      "5                house                      366              4824925   \n",
      "6       major purchase                     2110             17251600   \n",
      "7              medical                      667              5533225   \n",
      "8               moving                      559              3748125   \n",
      "9                other                     3824             31155750   \n",
      "10    renewable_energy                       94               845750   \n",
      "11      small business                     1776             24123100   \n",
      "12            vacation                      352              1967950   \n",
      "13             wedding                      928              9225800   \n",
      "\n",
      "    Total_Amount_Received  \n",
      "0               253801871  \n",
      "1                11324914  \n",
      "2                65214084  \n",
      "3                 2248380  \n",
      "4                36380930  \n",
      "5                 5185538  \n",
      "6                18676927  \n",
      "7                 5851372  \n",
      "8                 3999899  \n",
      "9                33289676  \n",
      "10                 898931  \n",
      "11               23814817  \n",
      "12                2116738  \n",
      "13               10266856  \n"
     ]
    }
   ],
   "source": [
    "# Purpose Breakdown (reproduces the SQL query)\n",
    "purpose_df = df.groupby('purpose').agg(\n",
    "    Total_Loan_Applications=('id', 'count'),\n",
    "    Total_Funded_Amount=('loan_amount', 'sum'),\n",
    "    Total_Amount_Received=('total_payment', 'sum')\n",
    ").reset_index()\n",
    "\n",
    "print(\"\\nPurpose Breakdown:\")\n",
    "print(purpose_df)\n",
    "\n",
    "\n"
   ]
  },
  {
   "cell_type": "code",
   "execution_count": 26,
   "id": "a5dadf14-0770-4a55-b68e-399198ea717b",
   "metadata": {
    "scrolled": true
   },
   "outputs": [
    {
     "name": "stdout",
     "output_type": "stream",
     "text": [
      "\n",
      "Home Ownership Analysis:\n",
      "  home_ownership  Total_Loan_Applications  Total_Funded_Amount  \\\n",
      "0       MORTGAGE                    17198            219329150   \n",
      "1           NONE                        3                16800   \n",
      "2          OTHER                       98              1044975   \n",
      "3            OWN                     2838             29597675   \n",
      "4           RENT                    18439            185768475   \n",
      "\n",
      "   Total_Amount_Received  \n",
      "0              238474438  \n",
      "1                  19053  \n",
      "2                1025257  \n",
      "3               31729129  \n",
      "4              201823056  \n"
     ]
    }
   ],
   "source": [
    "# Home Ownership Analysis (reproduces the SQL query)\n",
    "home_ownership_df = df.groupby('home_ownership').agg(\n",
    "    Total_Loan_Applications=('id', 'count'),\n",
    "    Total_Funded_Amount=('loan_amount', 'sum'),\n",
    "    Total_Amount_Received=('total_payment', 'sum')\n",
    ").reset_index()\n",
    "\n",
    "print(\"\\nHome Ownership Analysis:\")\n",
    "print(home_ownership_df)"
   ]
  },
  {
   "cell_type": "code",
   "execution_count": 27,
   "id": "876ca442-2874-44e6-bc53-68bd95c882b9",
   "metadata": {},
   "outputs": [
    {
     "data": {
      "text/html": [
       "<div>\n",
       "<style scoped>\n",
       "    .dataframe tbody tr th:only-of-type {\n",
       "        vertical-align: middle;\n",
       "    }\n",
       "\n",
       "    .dataframe tbody tr th {\n",
       "        vertical-align: top;\n",
       "    }\n",
       "\n",
       "    .dataframe thead th {\n",
       "        text-align: right;\n",
       "    }\n",
       "</style>\n",
       "<table border=\"1\" class=\"dataframe\">\n",
       "  <thead>\n",
       "    <tr style=\"text-align: right;\">\n",
       "      <th></th>\n",
       "      <th>id</th>\n",
       "      <th>address_state</th>\n",
       "      <th>application_type</th>\n",
       "      <th>emp_length</th>\n",
       "      <th>emp_title</th>\n",
       "      <th>grade</th>\n",
       "      <th>home_ownership</th>\n",
       "      <th>issue_date</th>\n",
       "      <th>last_credit_pull_date</th>\n",
       "      <th>last_payment_date</th>\n",
       "      <th>...</th>\n",
       "      <th>term</th>\n",
       "      <th>verification_status</th>\n",
       "      <th>annual_income</th>\n",
       "      <th>dti</th>\n",
       "      <th>installment</th>\n",
       "      <th>int_rate</th>\n",
       "      <th>loan_amount</th>\n",
       "      <th>total_acc</th>\n",
       "      <th>total_payment</th>\n",
       "      <th>loan_category</th>\n",
       "    </tr>\n",
       "  </thead>\n",
       "  <tbody>\n",
       "    <tr>\n",
       "      <th>0</th>\n",
       "      <td>54734</td>\n",
       "      <td>CA</td>\n",
       "      <td>INDIVIDUAL</td>\n",
       "      <td>&lt; 1 year</td>\n",
       "      <td>None</td>\n",
       "      <td>B</td>\n",
       "      <td>RENT</td>\n",
       "      <td>2021-08-09</td>\n",
       "      <td>2021-08-12</td>\n",
       "      <td>2021-10-11</td>\n",
       "      <td>...</td>\n",
       "      <td>36 months</td>\n",
       "      <td>Verified</td>\n",
       "      <td>85000.0</td>\n",
       "      <td>0.1948</td>\n",
       "      <td>829.099976</td>\n",
       "      <td>0.1189</td>\n",
       "      <td>25000</td>\n",
       "      <td>42</td>\n",
       "      <td>29330</td>\n",
       "      <td>Good Loan</td>\n",
       "    </tr>\n",
       "    <tr>\n",
       "      <th>1</th>\n",
       "      <td>55742</td>\n",
       "      <td>NY</td>\n",
       "      <td>INDIVIDUAL</td>\n",
       "      <td>&lt; 1 year</td>\n",
       "      <td>CNN</td>\n",
       "      <td>B</td>\n",
       "      <td>RENT</td>\n",
       "      <td>2021-05-08</td>\n",
       "      <td>2021-08-12</td>\n",
       "      <td>2021-06-11</td>\n",
       "      <td>...</td>\n",
       "      <td>36 months</td>\n",
       "      <td>Not Verified</td>\n",
       "      <td>65000.0</td>\n",
       "      <td>0.1429</td>\n",
       "      <td>228.220001</td>\n",
       "      <td>0.1071</td>\n",
       "      <td>7000</td>\n",
       "      <td>7</td>\n",
       "      <td>8216</td>\n",
       "      <td>Good Loan</td>\n",
       "    </tr>\n",
       "    <tr>\n",
       "      <th>2</th>\n",
       "      <td>57245</td>\n",
       "      <td>TX</td>\n",
       "      <td>INDIVIDUAL</td>\n",
       "      <td>10+ years</td>\n",
       "      <td>city of beaumont texas</td>\n",
       "      <td>C</td>\n",
       "      <td>OWN</td>\n",
       "      <td>2021-03-10</td>\n",
       "      <td>2021-05-16</td>\n",
       "      <td>2021-03-13</td>\n",
       "      <td>...</td>\n",
       "      <td>36 months</td>\n",
       "      <td>Not Verified</td>\n",
       "      <td>54000.0</td>\n",
       "      <td>0.0547</td>\n",
       "      <td>40.500000</td>\n",
       "      <td>0.1311</td>\n",
       "      <td>1200</td>\n",
       "      <td>31</td>\n",
       "      <td>1458</td>\n",
       "      <td>Good Loan</td>\n",
       "    </tr>\n",
       "    <tr>\n",
       "      <th>3</th>\n",
       "      <td>57416</td>\n",
       "      <td>CT</td>\n",
       "      <td>INDIVIDUAL</td>\n",
       "      <td>6 years</td>\n",
       "      <td>State Farm Insurance</td>\n",
       "      <td>C</td>\n",
       "      <td>RENT</td>\n",
       "      <td>2021-11-09</td>\n",
       "      <td>2021-05-16</td>\n",
       "      <td>2021-11-12</td>\n",
       "      <td>...</td>\n",
       "      <td>36 months</td>\n",
       "      <td>Not Verified</td>\n",
       "      <td>32000.0</td>\n",
       "      <td>0.1163</td>\n",
       "      <td>366.859985</td>\n",
       "      <td>0.1357</td>\n",
       "      <td>10800</td>\n",
       "      <td>40</td>\n",
       "      <td>13208</td>\n",
       "      <td>Good Loan</td>\n",
       "    </tr>\n",
       "    <tr>\n",
       "      <th>4</th>\n",
       "      <td>58915</td>\n",
       "      <td>CA</td>\n",
       "      <td>INDIVIDUAL</td>\n",
       "      <td>3 years</td>\n",
       "      <td>QUalcomm Inc</td>\n",
       "      <td>B</td>\n",
       "      <td>RENT</td>\n",
       "      <td>2021-04-08</td>\n",
       "      <td>2021-03-14</td>\n",
       "      <td>2021-04-11</td>\n",
       "      <td>...</td>\n",
       "      <td>36 months</td>\n",
       "      <td>Not Verified</td>\n",
       "      <td>85000.0</td>\n",
       "      <td>0.0810</td>\n",
       "      <td>162.339996</td>\n",
       "      <td>0.1008</td>\n",
       "      <td>7500</td>\n",
       "      <td>11</td>\n",
       "      <td>5844</td>\n",
       "      <td>Good Loan</td>\n",
       "    </tr>\n",
       "  </tbody>\n",
       "</table>\n",
       "<p>5 rows × 25 columns</p>\n",
       "</div>"
      ],
      "text/plain": [
       "      id address_state application_type emp_length               emp_title  \\\n",
       "0  54734            CA       INDIVIDUAL   < 1 year                    None   \n",
       "1  55742            NY       INDIVIDUAL   < 1 year                     CNN   \n",
       "2  57245            TX       INDIVIDUAL  10+ years  city of beaumont texas   \n",
       "3  57416            CT       INDIVIDUAL    6 years    State Farm Insurance   \n",
       "4  58915            CA       INDIVIDUAL    3 years            QUalcomm Inc   \n",
       "\n",
       "  grade home_ownership issue_date last_credit_pull_date last_payment_date  \\\n",
       "0     B           RENT 2021-08-09            2021-08-12        2021-10-11   \n",
       "1     B           RENT 2021-05-08            2021-08-12        2021-06-11   \n",
       "2     C            OWN 2021-03-10            2021-05-16        2021-03-13   \n",
       "3     C           RENT 2021-11-09            2021-05-16        2021-11-12   \n",
       "4     B           RENT 2021-04-08            2021-03-14        2021-04-11   \n",
       "\n",
       "   ...       term verification_status  annual_income     dti installment  \\\n",
       "0  ...  36 months            Verified        85000.0  0.1948  829.099976   \n",
       "1  ...  36 months        Not Verified        65000.0  0.1429  228.220001   \n",
       "2  ...  36 months        Not Verified        54000.0  0.0547   40.500000   \n",
       "3  ...  36 months        Not Verified        32000.0  0.1163  366.859985   \n",
       "4  ...  36 months        Not Verified        85000.0  0.0810  162.339996   \n",
       "\n",
       "  int_rate loan_amount  total_acc  total_payment  loan_category  \n",
       "0   0.1189       25000         42          29330      Good Loan  \n",
       "1   0.1071        7000          7           8216      Good Loan  \n",
       "2   0.1311        1200         31           1458      Good Loan  \n",
       "3   0.1357       10800         40          13208      Good Loan  \n",
       "4   0.1008        7500         11           5844      Good Loan  \n",
       "\n",
       "[5 rows x 25 columns]"
      ]
     },
     "execution_count": 27,
     "metadata": {},
     "output_type": "execute_result"
    }
   ],
   "source": [
    "df.head(5)"
   ]
  },
  {
   "cell_type": "markdown",
   "id": "7b45fab0-124f-4e92-8109-32dafb9c8051",
   "metadata": {},
   "source": [
    "# Data Visualization"
   ]
  },
  {
   "cell_type": "markdown",
   "id": "4a87389f-a947-46b8-8ea6-15fad4b75c40",
   "metadata": {},
   "source": [
    "## Summary Charts"
   ]
  },
  {
   "cell_type": "code",
   "execution_count": 28,
   "id": "c4fda6c9-76a1-4c07-b1ce-ebe21149df9b",
   "metadata": {},
   "outputs": [
    {
     "data": {
      "text/plain": [
       "Index(['id', 'address_state', 'application_type', 'emp_length', 'emp_title',\n",
       "       'grade', 'home_ownership', 'issue_date', 'last_credit_pull_date',\n",
       "       'last_payment_date', 'loan_status', 'next_payment_date', 'member_id',\n",
       "       'purpose', 'sub_grade', 'term', 'verification_status', 'annual_income',\n",
       "       'dti', 'installment', 'int_rate', 'loan_amount', 'total_acc',\n",
       "       'total_payment', 'loan_category'],\n",
       "      dtype='object')"
      ]
     },
     "execution_count": 28,
     "metadata": {},
     "output_type": "execute_result"
    }
   ],
   "source": [
    "df.columns"
   ]
  },
  {
   "cell_type": "code",
   "execution_count": 49,
   "id": "26b32683-604d-4f67-a6ff-1c15c2936df1",
   "metadata": {},
   "outputs": [
    {
     "data": {
      "image/png": "[encoded data removed]",
      "text/plain": [
       "<Figure size 1200x600 with 1 Axes>"
      ]
     },
     "metadata": {},
     "output_type": "display_data"
    }
   ],
   "source": [
    "# Group data by month and sum the loan amounts\n",
    "df['issue_month_year'] = df['issue_date'].dt.to_period('M')\n",
    "monthly_funded_amount = df.groupby('issue_month_year')['loan_amount'].sum().reset_index()\n",
    "monthly_funded_amount['issue_month_year'] = monthly_funded_amount['issue_month_year'].astype(str)\n",
    "\n",
    "# Plot the time series\n",
    "plt.figure(figsize=(12, 6))\n",
    "\n",
    "# Use ax object for more control over the axes\n",
    "ax = plt.gca()\n",
    "\n",
    "# Plot the data\n",
    "plt.plot(monthly_funded_amount['issue_month_year'], monthly_funded_amount['loan_amount'], marker='o', linestyle='-')\n",
    "\n",
    "# Add labels and a title\n",
    "plt.title('Total Funded Amount Over Time', fontsize=16)\n",
    "plt.xlabel('Date (Year-Month)', fontsize=12)\n",
    "plt.ylabel('Total Funded Amount ($)', fontsize=12)\n",
    "plt.xticks(rotation=45)\n",
    "plt.grid(True)\n",
    "plt.tight_layout()\n",
    "\n",
    "# Import the necessary formatter from matplotlib\n",
    "from matplotlib.ticker import FuncFormatter\n",
    "\n",
    "# Define a function to format the y-axis labels\n",
    "def thousands_formatter(x, pos):\n",
    "    \"\"\"The function to be used for formatting y-axis labels.\"\"\"\n",
    "    return f'{x / 1000:.1f}k'\n",
    "\n",
    "# Apply the formatter to the y-axis\n",
    "ax.yaxis.set_major_formatter(FuncFormatter(thousands_formatter))\n",
    "\n",
    "# Save the figure\n",
    "plt.savefig('total_funded_amount_over_time.png')\n",
    "plt.show()"
   ]
  },
  {
   "cell_type": "markdown",
   "id": "061ac05a-1704-4709-a11a-0db19a736e0c",
   "metadata": {},
   "source": [
    "### Loan Status Distribution "
   ]
  },
  {
   "cell_type": "code",
   "execution_count": 32,
   "id": "17a782e5-2b9e-4898-a520-69391334d150",
   "metadata": {},
   "outputs": [
    {
     "data": {
      "image/png": "[encoded data removed]",
      "text/plain": [
       "<Figure size 1000x500 with 1 Axes>"
      ]
     },
     "metadata": {},
     "output_type": "display_data"
    }
   ],
   "source": [
    "# Get counts of each loan status\n",
    "loan_status_counts = df['loan_status'].value_counts()\n",
    "\n",
    "# Create the pie chart\n",
    "plt.figure(figsize=(10, 5))\n",
    "plt.pie(loan_status_counts, labels=loan_status_counts.index, autopct='%1.1f%%', startangle=90, colors=plt.cm.tab20.colors)\n",
    "\n",
    "# Add a title\n",
    "plt.title('Loan Status Distribution', fontsize=16)\n",
    "plt.tight_layout()\n",
    "\n",
    "# Save the figure\n",
    "plt.savefig('loan_status_distribution.png')\n",
    "plt.show()"
   ]
  },
  {
   "cell_type": "markdown",
   "id": "aaec29b2-92ac-43e8-a629-3e30d8fe7594",
   "metadata": {},
   "source": [
    "## Loan Details by Category"
   ]
  },
  {
   "cell_type": "code",
   "execution_count": 50,
   "id": "138717a7-e93c-4e91-a1b7-499965f2eca8",
   "metadata": {},
   "outputs": [
    {
     "data": {
      "image/png": "[encoded data removed]",
      "text/plain": [
       "<Figure size 1000x600 with 1 Axes>"
      ]
     },
     "metadata": {},
     "output_type": "display_data"
    }
   ],
   "source": [
    "# Create the scatter plot\n",
    "plt.figure(figsize=(10, 6))\n",
    "ax = plt.gca() # Get the current axes to customize\n",
    "\n",
    "# Plot the data\n",
    "plt.scatter(df['annual_income'], df['loan_amount'], alpha=0.5)\n",
    "\n",
    "# Define a function to format the numbers with 'k' or 'M'\n",
    "def money_formatter(x, pos):\n",
    "    \"\"\"\n",
    "    Formats the tick values to show in thousands (k) or millions (M)\n",
    "    for better readability.\n",
    "    \"\"\"\n",
    "    if x >= 1_000_000:\n",
    "        return f'{x / 1_000_000:.1f}M'\n",
    "    elif x >= 1_000:\n",
    "        return f'{x / 1_000:.0f}k'\n",
    "    return f'{x:.0f}'\n",
    "\n",
    "# Apply the formatter to both the x-axis and y-axis\n",
    "ax.xaxis.set_major_formatter(FuncFormatter(money_formatter))\n",
    "ax.yaxis.set_major_formatter(FuncFormatter(money_formatter))\n",
    "\n",
    "# Add labels and title\n",
    "plt.title('Loan Amount vs. Annual Income', fontsize=16)\n",
    "plt.xlabel('Annual Income ($)', fontsize=12)\n",
    "plt.ylabel('Loan Amount ($)', fontsize=12)\n",
    "plt.grid(True)\n",
    "plt.tight_layout()\n",
    "\n",
    "# Save the figure\n",
    "plt.savefig('loan_amount_vs_annual_income.png')\n",
    "plt.show()"
   ]
  },
  {
   "cell_type": "markdown",
   "id": "42675c02-d0ee-4778-b999-4acc370355f3",
   "metadata": {},
   "source": [
    "## Purpose Breakdown (Bar Chart)"
   ]
  },
  {
   "cell_type": "code",
   "execution_count": 55,
   "id": "910a95fe-dc8b-4214-84d6-64708673c867",
   "metadata": {},
   "outputs": [
    {
     "data": {
      "image/png": "[encoded data removed]",
      "text/plain": [
       "<Figure size 1800x600 with 3 Axes>"
      ]
     },
     "metadata": {},
     "output_type": "display_data"
    }
   ],
   "source": [
    "\n",
    "\n",
    "# Group data by 'purpose' and calculate total metrics\n",
    "purpose_summary = df.groupby('purpose').agg(\n",
    "    Total_Applications=('id', 'count'),\n",
    "    Total_Funded_Amount=('loan_amount', 'sum'),\n",
    "    Total_Amount_Received=('total_payment', 'sum')\n",
    ").reset_index().sort_values('Total_Applications', ascending=False)\n",
    "\n",
    "\n",
    "\n",
    "# Create a figure with subplots\n",
    "fig, axes = plt.subplots(1, 3, figsize=(18, 6), sharey=False)\n",
    "\n",
    "\n",
    "# Plotting Total Applications\n",
    "axes[0].bar(purpose_summary['purpose'], purpose_summary['Total_Applications'], color='skyblue')\n",
    "axes[0].set_title('Total Applications by Purpose', fontsize=14)\n",
    "axes[0].tick_params(axis='x', rotation=90)\n",
    "axes[0].set_ylabel('Total Applications')\n",
    "\n",
    "# Plotting Total Funded Amount\n",
    "axes[1].bar(purpose_summary['purpose'], purpose_summary['Total_Funded_Amount'], color='lightgreen')\n",
    "axes[1].set_title('Total Funded Amount by Purpose', fontsize=14)\n",
    "axes[1].tick_params(axis='x', rotation=90)\n",
    "axes[1].set_ylabel('Total Funded Amount ($)')\n",
    "\n",
    "# Plotting Total Amount Received\n",
    "axes[2].bar(purpose_summary['purpose'], purpose_summary['Total_Amount_Received'], color='salmon')\n",
    "axes[2].set_title('Total Amount Received by Purpose', fontsize=14)\n",
    "axes[2].tick_params(axis='x', rotation=90)\n",
    "axes[2].set_ylabel('Total Amount Received ($)')\n",
    "\n",
    "plt.tight_layout()\n",
    "\n",
    "# Save the figure\n",
    "plt.savefig('purpose_breakdown_bar_chart.png')\n",
    "plt.show()"
   ]
  },
  {
   "cell_type": "markdown",
   "id": "4199bf58-9ba8-4c16-ae4c-5ed5531a7ffb",
   "metadata": {},
   "source": [
    "## Home Ownership Analysis"
   ]
  },
  {
   "cell_type": "code",
   "execution_count": 48,
   "id": "efc20860-c9dc-4d39-abc4-a8ba0c360056",
   "metadata": {},
   "outputs": [
    {
     "data": {
      "image/png": "[encoded data removed]",
      "text/plain": [
       "<Figure size 1200x800 with 1 Axes>"
      ]
     },
     "metadata": {},
     "output_type": "display_data"
    }
   ],
   "source": [
    "# Grouping data by 'home_ownership' and count total applications\n",
    "home_ownership_counts = df['home_ownership'].value_counts()\n",
    "\n",
    "# Calculating the total number of applications to determine percentages\n",
    "total_applications = home_ownership_counts.sum()\n",
    "\n",
    "# Defining specific colours for each category for a professional look\n",
    "color_mapping = {\n",
    "    'MORTGAGE': '#1f77b4',  # A shade of blue\n",
    "    'RENT': '#ff7f0e',      # A shade of orange\n",
    "    'OWN': '#2ca02c',       # A shade of green\n",
    "    'NONE': '#d62728',      # A shade of red\n",
    "    'OTHER': '#8c564b'      # A shade of brown\n",
    "}\n",
    "\n",
    "# Creating a list of colors based on the order of the grouped data\n",
    "colors = [color_mapping.get(category, '#7f7f7f') for category in home_ownership_counts.index]\n",
    "\n",
    "# Creating professional labels with category, count, and percentage\n",
    "labels = [\n",
    "    f\"{category}\\n({count})\\n({(count / total_applications):.1%})\"\n",
    "    for category, count in home_ownership_counts.items()\n",
    "]\n",
    "\n",
    "# Creating the treemap\n",
    "plt.figure(figsize=(12, 8))\n",
    "squarify.plot(\n",
    "    sizes=home_ownership_counts.values,\n",
    "    label=labels,\n",
    "    color=colors,\n",
    "    alpha=0.8,\n",
    "    pad=True  # Add padding for better visualisation\n",
    ")\n",
    "\n",
    "# Adding a title\n",
    "plt.title('Home Ownership Analysis (Total Applications)', fontsize=18, fontweight='bold')\n",
    "plt.axis('off')  # Turn off the axis for a cleaner look\n",
    "plt.tight_layout() # Adjust layout to prevent labels from overlapping\n",
    "\n",
    "# Saving the figure with a high resolution\n",
    "plt.savefig('home_ownership_treemap_professional.png', dpi=300)\n",
    "plt.show()"
   ]
  },
  {
   "cell_type": "markdown",
   "id": "7a335e9a-5f73-42e9-ba4c-2cb2fe3a604d",
   "metadata": {},
   "source": [
    "# Preserving the results"
   ]
  },
  {
   "cell_type": "code",
   "execution_count": 56,
   "id": "e1b7597f-5305-4d1c-a7e9-3e3cdcc6caa5",
   "metadata": {},
   "outputs": [
    {
     "name": "stdout",
     "output_type": "stream",
     "text": [
      "Requirement already satisfied: pyodbc in c:\\users\\shiwa\\anaconda3\\lib\\site-packages (5.1.0)Note: you may need to restart the kernel to use updated packages.\n",
      "\n",
      "Requirement already satisfied: sqlalchemy in c:\\users\\shiwa\\anaconda3\\lib\\site-packages (2.0.34)\n",
      "Requirement already satisfied: typing-extensions>=4.6.0 in c:\\users\\shiwa\\anaconda3\\lib\\site-packages (from sqlalchemy) (4.14.1)\n",
      "Requirement already satisfied: greenlet!=0.4.17 in c:\\users\\shiwa\\anaconda3\\lib\\site-packages (from sqlalchemy) (3.0.1)\n"
     ]
    }
   ],
   "source": [
    "pip install pyodbc sqlalchemy"
   ]
  },
  {
   "cell_type": "code",
   "execution_count": 57,
   "id": "b955e7a3-90cc-4e6c-9836-1efe812eb3e9",
   "metadata": {},
   "outputs": [],
   "source": [
    "from sqlalchemy import create_engine\n",
    "import urllib"
   ]
  },
  {
   "cell_type": "code",
   "execution_count": null,
   "id": "58d8b1fd-c3c3-4ef8-9286-077f74fe186b",
   "metadata": {},
   "outputs": [],
   "source": []
  }
 ],
 "metadata": {
  "kernelspec": {
   "display_name": "Python [conda env:base] *",
   "language": "python",
   "name": "conda-base-py"
  },
  "language_info": {
   "codemirror_mode": {
    "name": "ipython",
    "version": 3
   },
   "file_extension": ".py",
   "mimetype": "text/x-python",
   "name": "python",
   "nbconvert_exporter": "python",
   "pygments_lexer": "ipython3",
   "version": "3.12.7"
  }
 },
 "nbformat": 4,
 "nbformat_minor": 5
}
